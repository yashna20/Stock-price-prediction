{
 "cells": [
  {
   "cell_type": "markdown",
   "metadata": {},
   "source": [
    "# Stock Prices Prediction Using Keras Long Term Short Memory"
   ]
  },
  {
   "cell_type": "code",
   "execution_count": 1,
   "metadata": {},
   "outputs": [],
   "source": [
    "# Part 1 - Data Preprocessing\n",
    "\n",
    "# Importing the libraries\n",
    "import numpy as np\n",
    "import matplotlib.pyplot as plt\n",
    "import pandas as pd"
   ]
  },
  {
   "cell_type": "code",
   "execution_count": 2,
   "metadata": {},
   "outputs": [],
   "source": [
    "# Importing the training set\n",
    "dataset_train = pd.read_csv('NSE-TATAGLOBAL.csv')\n",
    "training_set = dataset_train.iloc[:, 1:2].values"
   ]
  },
  {
   "cell_type": "code",
   "execution_count": 3,
   "metadata": {},
   "outputs": [
    {
     "data": {
      "text/html": [
       "<div>\n",
       "<style scoped>\n",
       "    .dataframe tbody tr th:only-of-type {\n",
       "        vertical-align: middle;\n",
       "    }\n",
       "\n",
       "    .dataframe tbody tr th {\n",
       "        vertical-align: top;\n",
       "    }\n",
       "\n",
       "    .dataframe thead th {\n",
       "        text-align: right;\n",
       "    }\n",
       "</style>\n",
       "<table border=\"1\" class=\"dataframe\">\n",
       "  <thead>\n",
       "    <tr style=\"text-align: right;\">\n",
       "      <th></th>\n",
       "      <th>Date</th>\n",
       "      <th>Open</th>\n",
       "      <th>High</th>\n",
       "      <th>Low</th>\n",
       "      <th>Last</th>\n",
       "      <th>Close</th>\n",
       "      <th>Total Trade Quantity</th>\n",
       "      <th>Turnover (Lacs)</th>\n",
       "    </tr>\n",
       "  </thead>\n",
       "  <tbody>\n",
       "    <tr>\n",
       "      <th>0</th>\n",
       "      <td>2018-09-28</td>\n",
       "      <td>234.05</td>\n",
       "      <td>235.95</td>\n",
       "      <td>230.20</td>\n",
       "      <td>233.50</td>\n",
       "      <td>233.75</td>\n",
       "      <td>3069914</td>\n",
       "      <td>7162.35</td>\n",
       "    </tr>\n",
       "    <tr>\n",
       "      <th>1</th>\n",
       "      <td>2018-09-27</td>\n",
       "      <td>234.55</td>\n",
       "      <td>236.80</td>\n",
       "      <td>231.10</td>\n",
       "      <td>233.80</td>\n",
       "      <td>233.25</td>\n",
       "      <td>5082859</td>\n",
       "      <td>11859.95</td>\n",
       "    </tr>\n",
       "    <tr>\n",
       "      <th>2</th>\n",
       "      <td>2018-09-26</td>\n",
       "      <td>240.00</td>\n",
       "      <td>240.00</td>\n",
       "      <td>232.50</td>\n",
       "      <td>235.00</td>\n",
       "      <td>234.25</td>\n",
       "      <td>2240909</td>\n",
       "      <td>5248.60</td>\n",
       "    </tr>\n",
       "    <tr>\n",
       "      <th>3</th>\n",
       "      <td>2018-09-25</td>\n",
       "      <td>233.30</td>\n",
       "      <td>236.75</td>\n",
       "      <td>232.00</td>\n",
       "      <td>236.25</td>\n",
       "      <td>236.10</td>\n",
       "      <td>2349368</td>\n",
       "      <td>5503.90</td>\n",
       "    </tr>\n",
       "    <tr>\n",
       "      <th>4</th>\n",
       "      <td>2018-09-24</td>\n",
       "      <td>233.55</td>\n",
       "      <td>239.20</td>\n",
       "      <td>230.75</td>\n",
       "      <td>234.00</td>\n",
       "      <td>233.30</td>\n",
       "      <td>3423509</td>\n",
       "      <td>7999.55</td>\n",
       "    </tr>\n",
       "  </tbody>\n",
       "</table>\n",
       "</div>"
      ],
      "text/plain": [
       "         Date    Open    High     Low    Last   Close  Total Trade Quantity  \\\n",
       "0  2018-09-28  234.05  235.95  230.20  233.50  233.75               3069914   \n",
       "1  2018-09-27  234.55  236.80  231.10  233.80  233.25               5082859   \n",
       "2  2018-09-26  240.00  240.00  232.50  235.00  234.25               2240909   \n",
       "3  2018-09-25  233.30  236.75  232.00  236.25  236.10               2349368   \n",
       "4  2018-09-24  233.55  239.20  230.75  234.00  233.30               3423509   \n",
       "\n",
       "   Turnover (Lacs)  \n",
       "0          7162.35  \n",
       "1         11859.95  \n",
       "2          5248.60  \n",
       "3          5503.90  \n",
       "4          7999.55  "
      ]
     },
     "execution_count": 3,
     "metadata": {},
     "output_type": "execute_result"
    }
   ],
   "source": [
    "dataset_train.head()"
   ]
  },
  {
   "cell_type": "code",
   "execution_count": 4,
   "metadata": {},
   "outputs": [],
   "source": [
    "# Feature Scaling\n",
    "from sklearn.preprocessing import MinMaxScaler\n",
    "sc = MinMaxScaler(feature_range = (0, 1))\n",
    "training_set_scaled = sc.fit_transform(training_set)"
   ]
  },
  {
   "cell_type": "code",
   "execution_count": 17,
   "metadata": {},
   "outputs": [
    {
     "name": "stdout",
     "output_type": "stream",
     "text": [
      "[[0.6202352  0.62226277 0.64436334 ... 0.79622871 0.81062449 0.74371452]\n",
      " [0.62226277 0.64436334 0.61719384 ... 0.81062449 0.74371452 0.77007299]\n",
      " [0.64436334 0.61719384 0.61820762 ... 0.74371452 0.77007299 0.73641525]\n",
      " ...\n",
      " [0.19870235 0.21796431 0.21553122 ... 0.14963504 0.14801298 0.15815085]\n",
      " [0.21796431 0.21553122 0.20600162 ... 0.14801298 0.15815085 0.16504461]\n",
      " [0.21553122 0.20600162 0.21654501 ... 0.15815085 0.16504461 0.15896188]]\n"
     ]
    }
   ],
   "source": [
    "# Creating a data structure with 60 timesteps and 1 output\n",
    "X_train = []\n",
    "y_train = []\n",
    "for i in range(60, 2035):\n",
    "    X_train.append(training_set_scaled[i-60:i, 0])\n",
    "    y_train.append(training_set_scaled[i, 0])\n",
    "X_train, y_train = np.array(X_train), np.array(y_train)\n",
    "print(X_train)\n",
    "# print(X_train.shape[1])\n",
    "# print(X_train.shape[0])\n",
    "# print(X_train.shape)"
   ]
  },
  {
   "cell_type": "code",
   "execution_count": 23,
   "metadata": {},
   "outputs": [
    {
     "name": "stdout",
     "output_type": "stream",
     "text": [
      "[[[0.6202352 ]\n",
      "  [0.62226277]\n",
      "  [0.64436334]\n",
      "  ...\n",
      "  [0.79622871]\n",
      "  [0.81062449]\n",
      "  [0.74371452]]\n",
      "\n",
      " [[0.62226277]\n",
      "  [0.64436334]\n",
      "  [0.61719384]\n",
      "  ...\n",
      "  [0.81062449]\n",
      "  [0.74371452]\n",
      "  [0.77007299]]\n",
      "\n",
      " [[0.64436334]\n",
      "  [0.61719384]\n",
      "  [0.61820762]\n",
      "  ...\n",
      "  [0.74371452]\n",
      "  [0.77007299]\n",
      "  [0.73641525]]\n",
      "\n",
      " ...\n",
      "\n",
      " [[0.19870235]\n",
      "  [0.21796431]\n",
      "  [0.21553122]\n",
      "  ...\n",
      "  [0.14963504]\n",
      "  [0.14801298]\n",
      "  [0.15815085]]\n",
      "\n",
      " [[0.21796431]\n",
      "  [0.21553122]\n",
      "  [0.20600162]\n",
      "  ...\n",
      "  [0.14801298]\n",
      "  [0.15815085]\n",
      "  [0.16504461]]\n",
      "\n",
      " [[0.21553122]\n",
      "  [0.20600162]\n",
      "  [0.21654501]\n",
      "  ...\n",
      "  [0.15815085]\n",
      "  [0.16504461]\n",
      "  [0.15896188]]]\n"
     ]
    }
   ],
   "source": [
    "# Reshaping\n",
    "X_train = np.reshape(X_train, (X_train.shape[0], X_train.shape[1], 1))\n",
    "print(X_train)"
   ]
  },
  {
   "cell_type": "code",
   "execution_count": 7,
   "metadata": {},
   "outputs": [
    {
     "name": "stderr",
     "output_type": "stream",
     "text": [
      "Using TensorFlow backend.\n"
     ]
    }
   ],
   "source": [
    "# Part 2 - Building the RNN\n",
    "# Importing the Keras libraries and packages\n",
    "from keras.models import Sequential\n",
    "from keras.layers import Dense\n",
    "from keras.layers import LSTM\n",
    "from keras.layers import Dropout"
   ]
  },
  {
   "cell_type": "code",
   "execution_count": 8,
   "metadata": {},
   "outputs": [
    {
     "name": "stderr",
     "output_type": "stream",
     "text": [
      "WARNING: Logging before flag parsing goes to stderr.\n",
      "W0716 10:40:11.581972 10496 deprecation_wrapper.py:119] From C:\\ProgramData\\Anaconda3\\lib\\site-packages\\keras\\backend\\tensorflow_backend.py:74: The name tf.get_default_graph is deprecated. Please use tf.compat.v1.get_default_graph instead.\n",
      "\n",
      "W0716 10:40:11.608416 10496 deprecation_wrapper.py:119] From C:\\ProgramData\\Anaconda3\\lib\\site-packages\\keras\\backend\\tensorflow_backend.py:517: The name tf.placeholder is deprecated. Please use tf.compat.v1.placeholder instead.\n",
      "\n",
      "W0716 10:40:11.611506 10496 deprecation_wrapper.py:119] From C:\\ProgramData\\Anaconda3\\lib\\site-packages\\keras\\backend\\tensorflow_backend.py:4138: The name tf.random_uniform is deprecated. Please use tf.random.uniform instead.\n",
      "\n",
      "W0716 10:40:11.837905 10496 deprecation_wrapper.py:119] From C:\\ProgramData\\Anaconda3\\lib\\site-packages\\keras\\backend\\tensorflow_backend.py:133: The name tf.placeholder_with_default is deprecated. Please use tf.compat.v1.placeholder_with_default instead.\n",
      "\n",
      "W0716 10:40:11.843889 10496 deprecation.py:506] From C:\\ProgramData\\Anaconda3\\lib\\site-packages\\keras\\backend\\tensorflow_backend.py:3445: calling dropout (from tensorflow.python.ops.nn_ops) with keep_prob is deprecated and will be removed in a future version.\n",
      "Instructions for updating:\n",
      "Please use `rate` instead of `keep_prob`. Rate should be set to `rate = 1 - keep_prob`.\n"
     ]
    }
   ],
   "source": [
    "# Initialising the RNN\n",
    "regressor = Sequential()\n",
    "\n",
    "# Adding the first LSTM layer and some Dropout regularisation\n",
    "regressor.add(LSTM(units = 50, return_sequences = True, input_shape = (X_train.shape[1], 1)))\n",
    "regressor.add(Dropout(0.2))"
   ]
  },
  {
   "cell_type": "code",
   "execution_count": 9,
   "metadata": {},
   "outputs": [],
   "source": [
    "# Adding a second LSTM layer and some Dropout regularisation\n",
    "regressor.add(LSTM(units = 50, return_sequences = True))\n",
    "regressor.add(Dropout(0.2))"
   ]
  },
  {
   "cell_type": "code",
   "execution_count": 10,
   "metadata": {},
   "outputs": [],
   "source": [
    "\n",
    "# Adding a third LSTM layer and some Dropout regularisation\n",
    "regressor.add(LSTM(units = 50, return_sequences = True))\n",
    "regressor.add(Dropout(0.2))"
   ]
  },
  {
   "cell_type": "code",
   "execution_count": 11,
   "metadata": {},
   "outputs": [],
   "source": [
    "# Adding a fourth LSTM layer and some Dropout regularisation\n",
    "regressor.add(LSTM(units = 50))\n",
    "regressor.add(Dropout(0.2))\n"
   ]
  },
  {
   "cell_type": "code",
   "execution_count": 12,
   "metadata": {},
   "outputs": [
    {
     "name": "stderr",
     "output_type": "stream",
     "text": [
      "W0716 10:40:22.961938 10496 deprecation_wrapper.py:119] From C:\\ProgramData\\Anaconda3\\lib\\site-packages\\keras\\optimizers.py:790: The name tf.train.Optimizer is deprecated. Please use tf.compat.v1.train.Optimizer instead.\n",
      "\n",
      "W0716 10:40:23.200572 10496 deprecation.py:323] From C:\\ProgramData\\Anaconda3\\lib\\site-packages\\tensorflow\\python\\ops\\math_grad.py:1250: add_dispatch_support.<locals>.wrapper (from tensorflow.python.ops.array_ops) is deprecated and will be removed in a future version.\n",
      "Instructions for updating:\n",
      "Use tf.where in 2.0, which has the same broadcast rule as np.where\n",
      "W0716 10:40:25.134505 10496 deprecation_wrapper.py:119] From C:\\ProgramData\\Anaconda3\\lib\\site-packages\\keras\\backend\\tensorflow_backend.py:986: The name tf.assign_add is deprecated. Please use tf.compat.v1.assign_add instead.\n",
      "\n"
     ]
    },
    {
     "name": "stdout",
     "output_type": "stream",
     "text": [
      "Epoch 1/100\n",
      "1975/1975 [==============================] - 8s 4ms/step - loss: 0.0126\n",
      "Epoch 2/100\n",
      "1975/1975 [==============================] - 5s 3ms/step - loss: 0.0027\n",
      "Epoch 3/100\n",
      "1975/1975 [==============================] - 6s 3ms/step - loss: 0.0026\n",
      "Epoch 4/100\n",
      "1975/1975 [==============================] - 7s 3ms/step - loss: 0.0027\n",
      "Epoch 5/100\n",
      "1975/1975 [==============================] - 7s 3ms/step - loss: 0.0025\n",
      "Epoch 6/100\n",
      "1975/1975 [==============================] - 7s 3ms/step - loss: 0.0020\n",
      "Epoch 7/100\n",
      "1975/1975 [==============================] - 7s 3ms/step - loss: 0.0021\n",
      "Epoch 8/100\n",
      "1975/1975 [==============================] - 7s 3ms/step - loss: 0.0022\n",
      "Epoch 9/100\n",
      "1975/1975 [==============================] - 7s 4ms/step - loss: 0.0023\n",
      "Epoch 10/100\n",
      "1975/1975 [==============================] - 7s 3ms/step - loss: 0.0017\n",
      "Epoch 11/100\n",
      "1975/1975 [==============================] - 7s 3ms/step - loss: 0.0017\n",
      "Epoch 12/100\n",
      "1975/1975 [==============================] - 7s 3ms/step - loss: 0.0016\n",
      "Epoch 13/100\n",
      "1975/1975 [==============================] - 7s 3ms/step - loss: 0.0017\n",
      "Epoch 14/100\n",
      "1975/1975 [==============================] - 7s 3ms/step - loss: 0.0016\n",
      "Epoch 15/100\n",
      "1975/1975 [==============================] - 7s 3ms/step - loss: 0.0017\n",
      "Epoch 16/100\n",
      "1975/1975 [==============================] - 7s 3ms/step - loss: 0.0016\n",
      "Epoch 17/100\n",
      "1975/1975 [==============================] - 7s 3ms/step - loss: 0.0015\n",
      "Epoch 18/100\n",
      "1975/1975 [==============================] - 7s 3ms/step - loss: 0.0014\n",
      "Epoch 19/100\n",
      "1975/1975 [==============================] - 7s 3ms/step - loss: 0.0014\n",
      "Epoch 20/100\n",
      "1975/1975 [==============================] - 7s 3ms/step - loss: 0.0014\n",
      "Epoch 21/100\n",
      "1975/1975 [==============================] - 7s 3ms/step - loss: 0.0014\n",
      "Epoch 22/100\n",
      "1975/1975 [==============================] - 7s 3ms/step - loss: 0.0012\n",
      "Epoch 23/100\n",
      "1975/1975 [==============================] - 7s 3ms/step - loss: 0.0012\n",
      "Epoch 24/100\n",
      "1975/1975 [==============================] - 8s 4ms/step - loss: 0.0011\n",
      "Epoch 25/100\n",
      "1975/1975 [==============================] - 7s 3ms/step - loss: 0.0012\n",
      "Epoch 26/100\n",
      "1975/1975 [==============================] - 7s 3ms/step - loss: 0.0012\n",
      "Epoch 27/100\n",
      "1975/1975 [==============================] - 7s 3ms/step - loss: 0.0015\n",
      "Epoch 28/100\n",
      "1975/1975 [==============================] - 7s 3ms/step - loss: 0.0012\n",
      "Epoch 29/100\n",
      "1975/1975 [==============================] - 7s 3ms/step - loss: 0.0010\n",
      "Epoch 30/100\n",
      "1975/1975 [==============================] - 7s 3ms/step - loss: 0.0014\n",
      "Epoch 31/100\n",
      "1975/1975 [==============================] - 7s 3ms/step - loss: 0.0011\n",
      "Epoch 32/100\n",
      "1975/1975 [==============================] - 7s 3ms/step - loss: 9.8770e-04\n",
      "Epoch 33/100\n",
      "1975/1975 [==============================] - 7s 3ms/step - loss: 0.0010\n",
      "Epoch 34/100\n",
      "1975/1975 [==============================] - 7s 3ms/step - loss: 0.0010\n",
      "Epoch 35/100\n",
      "1975/1975 [==============================] - 7s 3ms/step - loss: 9.2024e-04\n",
      "Epoch 36/100\n",
      "1975/1975 [==============================] - 7s 3ms/step - loss: 9.4189e-04\n",
      "Epoch 37/100\n",
      "1975/1975 [==============================] - 7s 3ms/step - loss: 8.4975e-04\n",
      "Epoch 38/100\n",
      "1975/1975 [==============================] - 7s 3ms/step - loss: 9.9422e-04\n",
      "Epoch 39/100\n",
      "1975/1975 [==============================] - 7s 3ms/step - loss: 9.3251e-04\n",
      "Epoch 40/100\n",
      "1975/1975 [==============================] - 7s 3ms/step - loss: 9.7501e-04\n",
      "Epoch 41/100\n",
      "1975/1975 [==============================] - 7s 3ms/step - loss: 9.0834e-04\n",
      "Epoch 42/100\n",
      "1975/1975 [==============================] - 7s 3ms/step - loss: 8.8418e-04\n",
      "Epoch 43/100\n",
      "1975/1975 [==============================] - 7s 4ms/step - loss: 0.0011\n",
      "Epoch 44/100\n",
      "1975/1975 [==============================] - 7s 3ms/step - loss: 9.6837e-04\n",
      "Epoch 45/100\n",
      "1975/1975 [==============================] - 7s 3ms/step - loss: 8.9879e-04\n",
      "Epoch 46/100\n",
      "1975/1975 [==============================] - 7s 3ms/step - loss: 7.9461e-04\n",
      "Epoch 47/100\n",
      "1975/1975 [==============================] - 7s 3ms/step - loss: 9.3066e-04\n",
      "Epoch 48/100\n",
      "1975/1975 [==============================] - 7s 3ms/step - loss: 8.0014e-04\n",
      "Epoch 49/100\n",
      "1975/1975 [==============================] - 8s 4ms/step - loss: 7.5981e-04\n",
      "Epoch 50/100\n",
      "1975/1975 [==============================] - 7s 3ms/step - loss: 7.1440e-04\n",
      "Epoch 51/100\n",
      "1975/1975 [==============================] - 7s 3ms/step - loss: 8.6543e-04\n",
      "Epoch 52/100\n",
      "1975/1975 [==============================] - 7s 3ms/step - loss: 8.6440e-04\n",
      "Epoch 53/100\n",
      "1975/1975 [==============================] - 7s 3ms/step - loss: 7.8328e-04\n",
      "Epoch 54/100\n",
      "1975/1975 [==============================] - 7s 3ms/step - loss: 8.0797e-04\n",
      "Epoch 55/100\n",
      "1975/1975 [==============================] - 7s 3ms/step - loss: 8.7700e-04\n",
      "Epoch 56/100\n",
      "1975/1975 [==============================] - 7s 3ms/step - loss: 8.9242e-04\n",
      "Epoch 57/100\n",
      "1975/1975 [==============================] - 7s 3ms/step - loss: 7.3226e-04\n",
      "Epoch 58/100\n",
      "1975/1975 [==============================] - 7s 3ms/step - loss: 8.0123e-04\n",
      "Epoch 59/100\n",
      "1975/1975 [==============================] - 7s 3ms/step - loss: 6.9137e-04\n",
      "Epoch 60/100\n",
      "1975/1975 [==============================] - 7s 3ms/step - loss: 7.5436e-04\n",
      "Epoch 61/100\n",
      "1975/1975 [==============================] - 7s 3ms/step - loss: 6.7461e-04\n",
      "Epoch 62/100\n",
      "1975/1975 [==============================] - 7s 3ms/step - loss: 7.0209e-04\n",
      "Epoch 63/100\n",
      "1975/1975 [==============================] - 7s 3ms/step - loss: 8.1402e-04\n",
      "Epoch 64/100\n",
      "1975/1975 [==============================] - 7s 3ms/step - loss: 8.7204e-04\n",
      "Epoch 65/100\n",
      "1975/1975 [==============================] - 7s 4ms/step - loss: 8.1968e-04\n",
      "Epoch 66/100\n",
      "1975/1975 [==============================] - 7s 3ms/step - loss: 7.5364e-04\n",
      "Epoch 67/100\n",
      "1975/1975 [==============================] - 7s 3ms/step - loss: 6.4373e-04\n",
      "Epoch 68/100\n",
      "1975/1975 [==============================] - 7s 3ms/step - loss: 7.5858e-04\n",
      "Epoch 69/100\n",
      "1975/1975 [==============================] - 7s 4ms/step - loss: 8.9258e-04\n",
      "Epoch 70/100\n",
      "1975/1975 [==============================] - 7s 3ms/step - loss: 6.5992e-04\n",
      "Epoch 71/100\n",
      "1975/1975 [==============================] - 7s 3ms/step - loss: 7.5320e-04\n",
      "Epoch 72/100\n",
      "1975/1975 [==============================] - 7s 3ms/step - loss: 7.6472e-04\n",
      "Epoch 73/100\n",
      "1975/1975 [==============================] - 7s 3ms/step - loss: 7.9465e-04\n",
      "Epoch 74/100\n",
      "1975/1975 [==============================] - 7s 3ms/step - loss: 6.6811e-04\n",
      "Epoch 75/100\n",
      "1975/1975 [==============================] - 7s 3ms/step - loss: 5.8151e-04\n",
      "Epoch 76/100\n",
      "1975/1975 [==============================] - 7s 3ms/step - loss: 6.9590e-04\n",
      "Epoch 77/100\n",
      "1975/1975 [==============================] - 7s 3ms/step - loss: 7.1452e-04\n",
      "Epoch 78/100\n",
      "1975/1975 [==============================] - 7s 3ms/step - loss: 6.7074e-04\n",
      "Epoch 79/100\n",
      "1975/1975 [==============================] - 7s 3ms/step - loss: 6.3765e-04\n",
      "Epoch 80/100\n",
      "1975/1975 [==============================] - 7s 3ms/step - loss: 6.1139e-04\n",
      "Epoch 81/100\n",
      "1975/1975 [==============================] - 7s 3ms/step - loss: 6.9163e-04\n",
      "Epoch 82/100\n",
      "1975/1975 [==============================] - 7s 3ms/step - loss: 6.4836e-04\n",
      "Epoch 83/100\n",
      "1975/1975 [==============================] - 7s 3ms/step - loss: 6.2922e-04\n",
      "Epoch 84/100\n",
      "1975/1975 [==============================] - 7s 3ms/step - loss: 6.5896e-04\n",
      "Epoch 85/100\n",
      "1975/1975 [==============================] - 7s 4ms/step - loss: 7.3268e-04\n",
      "Epoch 86/100\n",
      "1975/1975 [==============================] - 7s 3ms/step - loss: 6.2840e-04\n",
      "Epoch 87/100\n",
      "1975/1975 [==============================] - 7s 3ms/step - loss: 6.7653e-04\n",
      "Epoch 88/100\n",
      "1975/1975 [==============================] - 7s 3ms/step - loss: 6.2480e-04\n",
      "Epoch 89/100\n",
      "1975/1975 [==============================] - 7s 3ms/step - loss: 5.7241e-04\n",
      "Epoch 90/100\n",
      "1975/1975 [==============================] - 7s 3ms/step - loss: 5.7931e-04\n",
      "Epoch 91/100\n",
      "1975/1975 [==============================] - 7s 3ms/step - loss: 6.2818e-04\n",
      "Epoch 92/100\n",
      "1975/1975 [==============================] - 7s 3ms/step - loss: 6.4826e-04\n",
      "Epoch 93/100\n",
      "1975/1975 [==============================] - 7s 3ms/step - loss: 6.3211e-04\n",
      "Epoch 94/100\n"
     ]
    },
    {
     "name": "stdout",
     "output_type": "stream",
     "text": [
      "1975/1975 [==============================] - 7s 3ms/step - loss: 8.3034e-04\n",
      "Epoch 95/100\n",
      "1975/1975 [==============================] - 7s 3ms/step - loss: 6.8162e-04\n",
      "Epoch 96/100\n",
      "1975/1975 [==============================] - 7s 3ms/step - loss: 6.3194e-04\n",
      "Epoch 97/100\n",
      "1975/1975 [==============================] - 7s 3ms/step - loss: 6.3173e-04\n",
      "Epoch 98/100\n",
      "1975/1975 [==============================] - 7s 3ms/step - loss: 6.7623e-04\n",
      "Epoch 99/100\n",
      "1975/1975 [==============================] - 7s 3ms/step - loss: 5.7971e-04\n",
      "Epoch 100/100\n",
      "1975/1975 [==============================] - 7s 3ms/step - loss: 7.2967e-04\n"
     ]
    },
    {
     "data": {
      "text/plain": [
       "<keras.callbacks.History at 0x251c20c02e8>"
      ]
     },
     "execution_count": 12,
     "metadata": {},
     "output_type": "execute_result"
    }
   ],
   "source": [
    "# Adding the output layer\n",
    "regressor.add(Dense(units = 1))\n",
    "\n",
    "# Compiling the RNN\n",
    "regressor.compile(optimizer = 'adam', loss = 'mean_squared_error')\n",
    "\n",
    "# Fitting the RNN to the Training set\n",
    "regressor.fit(X_train, y_train, epochs = 100, batch_size = 32)\n",
    "\n"
   ]
  },
  {
   "cell_type": "code",
   "execution_count": 14,
   "metadata": {},
   "outputs": [],
   "source": [
    "# Part 3 - Making the predictions and visualising the results\n",
    "# Getting the real stock price of 2017\n",
    "dataset_test = pd.read_csv('tatatest.csv')\n",
    "real_stock_price = dataset_test.iloc[:, 1:2].values"
   ]
  },
  {
   "cell_type": "code",
   "execution_count": 25,
   "metadata": {},
   "outputs": [
    {
     "name": "stdout",
     "output_type": "stream",
     "text": [
      "(2035, 8)\n",
      "(16, 8)\n",
      "(2051,)\n"
     ]
    }
   ],
   "source": [
    "# Getting the predicted stock price of 2017\n",
    "dataset_total = pd.concat((dataset_train['Open'], dataset_test['Open']), axis = 0)\n",
    "inputs = dataset_total[len(dataset_total) - len(dataset_test) - 60:].values\n",
    "inputs = inputs.reshape(-1,1)\n",
    "inputs = sc.transform(inputs)\n",
    "X_test = []\n",
    "for i in range(60, 76):\n",
    "    X_test.append(inputs[i-60:i, 0])\n",
    "X_test = np.array(X_test)\n",
    "X_test = np.reshape(X_test, (X_test.shape[0], X_test.shape[1], 1))\n",
    "predicted_stock_price = regressor.predict(X_test)\n",
    "predicted_stock_price = sc.inverse_transform(predicted_stock_price)\n",
    "print(dataset_train.shape)\n",
    "print(dataset_test.shape)\n",
    "print(dataset_total.shape)\n"
   ]
  },
  {
   "cell_type": "code",
   "execution_count": 16,
   "metadata": {},
   "outputs": [
    {
     "data": {
      "image/png": "[encoded data removed]",
      "text/plain": [
       "<Figure size 432x288 with 1 Axes>"
      ]
     },
     "metadata": {
      "needs_background": "light"
     },
     "output_type": "display_data"
    }
   ],
   "source": [
    "# Visualising the results\n",
    "plt.plot(real_stock_price, color = 'red', label = 'Real TATA Stock Price')\n",
    "plt.plot(predicted_stock_price, color = 'blue', label = 'Predicted TATA Stock Price')\n",
    "plt.title('TATA Stock Price Prediction')\n",
    "plt.xlabel('Time')\n",
    "plt.ylabel('TATA Stock Price')\n",
    "plt.legend()\n",
    "plt.show()"
   ]
  },
  {
   "cell_type": "code",
   "execution_count": null,
   "metadata": {},
   "outputs": [],
   "source": []
  }
 ],
 "metadata": {
  "kernelspec": {
   "display_name": "Python 3",
   "language": "python",
   "name": "python3"
  },
  "language_info": {
   "codemirror_mode": {
    "name": "ipython",
    "version": 3
   },
   "file_extension": ".py",
   "mimetype": "text/x-python",
   "name": "python",
   "nbconvert_exporter": "python",
   "pygments_lexer": "ipython3",
   "version": "3.7.3"
  }
 },
 "nbformat": 4,
 "nbformat_minor": 2
}
